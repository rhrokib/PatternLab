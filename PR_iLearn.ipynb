{
  "nbformat": 4,
  "nbformat_minor": 0,
  "metadata": {
    "colab": {
      "name": "PR_iLearn.ipynb",
      "provenance": []
    },
    "kernelspec": {
      "name": "python3",
      "display_name": "Python 3"
    }
  },
  "cells": [
    {
      "cell_type": "code",
      "metadata": {
        "id": "FZh6Auy3oXZy"
      },
      "source": [
        "!pip install biopython\n",
        "from Bio import SeqIO\n",
        "import sys\n",
        "import re\n",
        "import os\n",
        "import fileinput"
      ],
      "execution_count": null,
      "outputs": []
    },
    {
      "cell_type": "code",
      "metadata": {
        "id": "D66NLnR2k2TX"
      },
      "source": [
        "import os\n",
        "PATH = r\"/content/drive/My Drive/prLab/dataset\"\n",
        "\n",
        "path = os.listdir(PATH)\n",
        "files = [x.split('.')[0] for x in path]\n",
        "print(files)\n"
      ],
      "execution_count": null,
      "outputs": []
    },
    {
      "cell_type": "code",
      "metadata": {
        "id": "jwVbNNY8lb5A"
      },
      "source": [
        "%cd /content/drive/My Drive/prLab/dataset\n",
        "\n",
        "for f in files:\n",
        "    out = open(f + \"_sp.txt\", \"w\")\n",
        "    mode = \"train\"\n",
        "    classLabel = \"1\"\n",
        "\n",
        "    if \"test\" in f:\n",
        "      mode = \"test\"\n",
        "\n",
        "    if f[0] == \"N\":\n",
        "        classLabel = \"0\"\n",
        "\n",
        "    for seq_record in SeqIO.parse(f + \".txt\", \"fasta\"):\n",
        "      id = str(seq_record.id) + \"|\" + classLabel + \"|\" + mode\n",
        "      sequence = str(seq_record.seq)\n",
        "      out.write(\">\" + id + \"\\n\" + sequence + \"\\n\")\n",
        "    out.close()\n",
        "    print(\"All good!\")"
      ],
      "execution_count": null,
      "outputs": []
    },
    {
      "cell_type": "markdown",
      "metadata": {
        "id": "ml21XIu08X5z"
      },
      "source": [
        "#Generating KMER 1-5 for NA/PA files only."
      ]
    },
    {
      "cell_type": "code",
      "metadata": {
        "id": "ERj0dtpFncz5"
      },
      "source": [
        "#Generating KMER 1-5 for NA/PA files only.\n",
        "!pwd\n",
        "\n",
        "! python descnucleotide/RCKmer.py --file \"/content/drive/My Drive/prLab/dataset/NA_test_sp.txt\" --kmer 1 --normalize --format csv --out \"/content/drive/My Drive/prLab/features/Kmer/NA_test_K1.csv\"\n",
        "! python descnucleotide/RCKmer.py --file \"/content/drive/My Drive/prLab/dataset/NA_test_sp.txt\" --kmer 2 --normalize --format csv --out \"/content/drive/My Drive/prLab/features/Kmer/NA_test_K2.csv\"\n",
        "! python descnucleotide/RCKmer.py --file \"/content/drive/My Drive/prLab/dataset/NA_test_sp.txt\" --kmer 3 --normalize --format csv --out \"/content/drive/My Drive/prLab/features/Kmer/NA_test_K3.csv\"\n",
        "! python descnucleotide/RCKmer.py --file \"/content/drive/My Drive/prLab/dataset/NA_test_sp.txt\" --kmer 4 --normalize --format csv --out \"/content/drive/My Drive/prLab/features/Kmer/NA_test_K4.csv\"\n",
        "! python descnucleotide/RCKmer.py --file \"/content/drive/My Drive/prLab/dataset/NA_test_sp.txt\" --kmer 5 --normalize --format csv --out \"/content/drive/My Drive/prLab/features/Kmer/NA_test_K5.csv\"\n",
        "\n",
        "! python descnucleotide/RCKmer.py --file \"/content/drive/My Drive/prLab/dataset/PA_test_sp.txt\" --kmer 1 --normalize --format csv --out \"/content/drive/My Drive/prLab/features/Kmer/PA_test_K1.csv\"\n",
        "! python descnucleotide/RCKmer.py --file \"/content/drive/My Drive/prLab/dataset/PA_test_sp.txt\" --kmer 2 --normalize --format csv --out \"/content/drive/My Drive/prLab/features/Kmer/PA_test_K2.csv\"\n",
        "! python descnucleotide/RCKmer.py --file \"/content/drive/My Drive/prLab/dataset/PA_test_sp.txt\" --kmer 3 --normalize --format csv --out \"/content/drive/My Drive/prLab/features/Kmer/PA_test_K3.csv\"\n",
        "! python descnucleotide/RCKmer.py --file \"/content/drive/My Drive/prLab/dataset/PA_test_sp.txt\" --kmer 4 --normalize --format csv --out \"/content/drive/My Drive/prLab/features/Kmer/PA_test_K4.csv\"\n",
        "! python descnucleotide/RCKmer.py --file \"/content/drive/My Drive/prLab/dataset/PA_test_sp.txt\" --kmer 5 --normalize --format csv --out \"/content/drive/My Drive/prLab/features/Kmer/PA_test_K5.csv\"\n",
        "\n",
        "! python descnucleotide/RCKmer.py --file \"/content/drive/My Drive/prLab/dataset/NA_train_sp.txt\" --kmer 1 --normalize --format csv --out \"/content/drive/My Drive/prLab/features/Kmer/NA_train_K1.csv\"\n",
        "! python descnucleotide/RCKmer.py --file \"/content/drive/My Drive/prLab/dataset/NA_train_sp.txt\" --kmer 2 --normalize --format csv --out \"/content/drive/My Drive/prLab/features/Kmer/NA_train_K2.csv\"\n",
        "! python descnucleotide/RCKmer.py --file \"/content/drive/My Drive/prLab/dataset/NA_train_sp.txt\" --kmer 3 --normalize --format csv --out \"/content/drive/My Drive/prLab/features/Kmer/NA_train_K3.csv\"\n",
        "! python descnucleotide/RCKmer.py --file \"/content/drive/My Drive/prLab/dataset/NA_train_sp.txt\" --kmer 4 --normalize --format csv --out \"/content/drive/My Drive/prLab/features/Kmer/NA_train_K4.csv\"\n",
        "! python descnucleotide/RCKmer.py --file \"/content/drive/My Drive/prLab/dataset/NA_train_sp.txt\" --kmer 5 --normalize --format csv --out \"/content/drive/My Drive/prLab/features/Kmer/NA_train_K5.csv\"\n",
        "\n",
        "! python descnucleotide/RCKmer.py --file \"/content/drive/My Drive/prLab/dataset/PA_train_sp.txt\" --kmer 1 --normalize --format csv --out \"/content/drive/My Drive/prLab/features/Kmer/PA_train_K1.csv\"\n",
        "! python descnucleotide/RCKmer.py --file \"/content/drive/My Drive/prLab/dataset/PA_train_sp.txt\" --kmer 2 --normalize --format csv --out \"/content/drive/My Drive/prLab/features/Kmer/PA_train_K2.csv\"\n",
        "! python descnucleotide/RCKmer.py --file \"/content/drive/My Drive/prLab/dataset/PA_train_sp.txt\" --kmer 3 --normalize --format csv --out \"/content/drive/My Drive/prLab/features/Kmer/PA_train_K3.csv\"\n",
        "! python descnucleotide/RCKmer.py --file \"/content/drive/My Drive/prLab/dataset/PA_train_sp.txt\" --kmer 4 --normalize --format csv --out \"/content/drive/My Drive/prLab/features/Kmer/PA_train_K4.csv\"\n",
        "! python descnucleotide/RCKmer.py --file \"/content/drive/My Drive/prLab/dataset/PA_train_sp.txt\" --kmer 5 --normalize --format csv --out \"/content/drive/My Drive/prLab/features/Kmer/PA_train_K5.csv\"\n",
        "! echo That was a lotta files\n"
      ],
      "execution_count": null,
      "outputs": []
    },
    {
      "cell_type": "code",
      "metadata": {
        "id": "1HMdElri8VZk"
      },
      "source": [
        ""
      ],
      "execution_count": null,
      "outputs": []
    }
  ]
}