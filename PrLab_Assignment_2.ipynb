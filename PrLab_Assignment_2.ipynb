{
  "nbformat": 4,
  "nbformat_minor": 0,
  "metadata": {
    "colab": {
      "name": "PrLab_Assignment_2.ipynb",
      "provenance": []
    },
    "kernelspec": {
      "name": "python3",
      "display_name": "Python 3"
    }
  },
  "cells": [
    {
      "cell_type": "code",
      "metadata": {
        "id": "6HydsysAu1CQ"
      },
      "source": [
        "import pandas as pd\n",
        "import numpy as np\n",
        "import os"
      ],
      "execution_count": null,
      "outputs": []
    },
    {
      "cell_type": "markdown",
      "metadata": {
        "id": "W-7OzHcO1204"
      },
      "source": [
        "##Thanks to a random dude on StackOverflow"
      ]
    },
    {
      "cell_type": "code",
      "metadata": {
        "id": "Ehb3H4GI1Sbf"
      },
      "source": [
        "\n",
        "def getListOfFiles(dirName):\n",
        "    # create a list of file and sub directories \n",
        "    # names in the given directory \n",
        "    listOfFile = os.listdir(dirName)\n",
        "    allFiles = list()\n",
        "    # Iterate over all the entries\n",
        "    for entry in listOfFile:\n",
        "        # Create full path\n",
        "        fullPath = os.path.join(dirName, entry)\n",
        "        # If entry is a directory then get the list of files in this directory \n",
        "        if os.path.isdir(fullPath):\n",
        "            allFiles = allFiles + getListOfFiles(fullPath)\n",
        "        else:\n",
        "            allFiles.append(fullPath)\n",
        "                \n",
        "    return allFiles"
      ],
      "execution_count": null,
      "outputs": []
    },
    {
      "cell_type": "code",
      "metadata": {
        "id": "n1EmKlBr1SjN"
      },
      "source": [
        "dirName = '/content/drive/MyDrive/prLab/features';\n",
        "# Get the list of all files in directory tree at given path \n",
        "listOfFiles = getListOfFiles(dirName)"
      ],
      "execution_count": null,
      "outputs": []
    },
    {
      "cell_type": "markdown",
      "metadata": {
        "id": "LuBVrLs7rzAy"
      },
      "source": [
        "###End of thanking"
      ]
    },
    {
      "cell_type": "code",
      "metadata": {
        "id": "jnmQFd1E1SrI",
        "colab": {
          "base_uri": "https://localhost:8080/"
        },
        "outputId": "fcee7488-b348-4bf9-a23e-080b054f270f"
      },
      "source": [
        "for f in listOfFiles:\n",
        "  if f.endswith(\".npy\"):\n",
        "    listOfFiles.remove(f)\n",
        "\n",
        "listOfFiles = [x.split('.')[0] for x in listOfFiles]\n",
        "print(listOfFiles)"
      ],
      "execution_count": null,
      "outputs": [
        {
          "output_type": "stream",
          "text": [
            "['/content/drive/MyDrive/prLab/features/Binary/NA_train_sp_bin', '/content/drive/MyDrive/prLab/features/Binary/NA_test_sp_bin', '/content/drive/MyDrive/prLab/features/Binary/PA_train_sp_bin', '/content/drive/MyDrive/prLab/features/Binary/PA_test_sp_bin', '/content/drive/MyDrive/prLab/features/Binary/PA_train_sp_bin', '/content/drive/MyDrive/prLab/features/Binary/PA_test_sp_bin', '/content/drive/MyDrive/prLab/features/TAC/NA_train_sp_TAC7', '/content/drive/MyDrive/prLab/features/TAC/NA_test_sp_TAC7', '/content/drive/MyDrive/prLab/features/TAC/PA_train_sp_TAC7', '/content/drive/MyDrive/prLab/features/TAC/PA_test_sp_TAC7', '/content/drive/MyDrive/prLab/features/TAC/PA_train_sp_TAC7', '/content/drive/MyDrive/prLab/features/TAC/NA_test_sp_TAC7', '/content/drive/MyDrive/prLab/features/EIIP/NA_train_sp_eiip', '/content/drive/MyDrive/prLab/features/EIIP/NA_test_sp_eiip', '/content/drive/MyDrive/prLab/features/EIIP/PA_train_sp_eiip', '/content/drive/MyDrive/prLab/features/EIIP/PA_test_sp_eiip', '/content/drive/MyDrive/prLab/features/EIIP/PA_train_sp_eiip', '/content/drive/MyDrive/prLab/features/EIIP/PA_test_sp_eiip', '/content/drive/MyDrive/prLab/features/DAC/NA_train_sp_DAC7', '/content/drive/MyDrive/prLab/features/DAC/NA_test_sp_DAC7', '/content/drive/MyDrive/prLab/features/DAC/PA_train_sp_DAC1', '/content/drive/MyDrive/prLab/features/DAC/PA_train_sp_DAC7', '/content/drive/MyDrive/prLab/features/DAC/PA_train_sp_DAC7', '/content/drive/MyDrive/prLab/features/DAC/NA_test_sp_DAC7', '/content/drive/MyDrive/prLab/features/NCP/NA_train_sp_ncp', '/content/drive/MyDrive/prLab/features/NCP/NA_test_sp_ncp', '/content/drive/MyDrive/prLab/features/NCP/PA_train_sp_ncp', '/content/drive/MyDrive/prLab/features/NCP/PA_test_sp_ncp', '/content/drive/MyDrive/prLab/features/NCP/PA_train_sp_ncp', '/content/drive/MyDrive/prLab/features/NCP/NA_train_sp_ncp', '/content/drive/MyDrive/prLab/features/KSpace/NA_train_sp_gap1', '/content/drive/MyDrive/prLab/features/KSpace/NA_train_sp_gap3', '/content/drive/MyDrive/prLab/features/KSpace/NA_train_sp_gap5', '/content/drive/MyDrive/prLab/features/KSpace/NA_train_sp_gap7', '/content/drive/MyDrive/prLab/features/KSpace/NA_train_sp_gap9', '/content/drive/MyDrive/prLab/features/KSpace/NA_test_sp_gap1', '/content/drive/MyDrive/prLab/features/KSpace/NA_test_sp_gap3', '/content/drive/MyDrive/prLab/features/KSpace/NA_test_sp_gap5', '/content/drive/MyDrive/prLab/features/KSpace/NA_test_sp_gap7', '/content/drive/MyDrive/prLab/features/KSpace/NA_test_sp_gap9', '/content/drive/MyDrive/prLab/features/KSpace/PA_train_sp_gap1', '/content/drive/MyDrive/prLab/features/KSpace/PA_train_sp_gap3', '/content/drive/MyDrive/prLab/features/KSpace/PA_train_sp_gap5', '/content/drive/MyDrive/prLab/features/KSpace/PA_train_sp_gap7', '/content/drive/MyDrive/prLab/features/KSpace/PA_train_sp_gap9', '/content/drive/MyDrive/prLab/features/KSpace/PA_test_sp_gap1', '/content/drive/MyDrive/prLab/features/KSpace/PA_test_sp_gap3', '/content/drive/MyDrive/prLab/features/KSpace/PA_test_sp_gap5', '/content/drive/MyDrive/prLab/features/KSpace/PA_test_sp_gap7', '/content/drive/MyDrive/prLab/features/KSpace/PA_test_sp_gap9', '/content/drive/MyDrive/prLab/features/KSpace/NA_train_sp_gap5', '/content/drive/MyDrive/prLab/features/KSpace/NA_test_sp_gap3', '/content/drive/MyDrive/prLab/features/KSpace/PA_train_sp_gap1', '/content/drive/MyDrive/prLab/features/KSpace/PA_train_sp_gap9', '/content/drive/MyDrive/prLab/features/KSpace/PA_test_sp_gap1', '/content/drive/MyDrive/prLab/features/KSpace/PA_test_sp_gap7', '/content/drive/MyDrive/prLab/features/KSpace/NA_train_sp_gap3', '/content/drive/MyDrive/prLab/features/KSpace/NA_test_sp_gap1', '/content/drive/MyDrive/prLab/features/KSpace/NA_test_sp_gap9', '/content/drive/MyDrive/prLab/features/KSpace/PA_train_sp_gap7', '/content/drive/MyDrive/prLab/features/Kmer/NA_test_K1', '/content/drive/MyDrive/prLab/features/Kmer/NA_test_K2', '/content/drive/MyDrive/prLab/features/Kmer/NA_test_K3', '/content/drive/MyDrive/prLab/features/Kmer/NA_test_K4', '/content/drive/MyDrive/prLab/features/Kmer/NA_test_K5', '/content/drive/MyDrive/prLab/features/Kmer/PA_test_K1', '/content/drive/MyDrive/prLab/features/Kmer/PA_test_K2', '/content/drive/MyDrive/prLab/features/Kmer/PA_test_K3', '/content/drive/MyDrive/prLab/features/Kmer/PA_test_K5', '/content/drive/MyDrive/prLab/features/Kmer/PA_test_K4', '/content/drive/MyDrive/prLab/features/Kmer/NA_train_K1', '/content/drive/MyDrive/prLab/features/Kmer/NA_train_K3', '/content/drive/MyDrive/prLab/features/Kmer/NA_train_K2', '/content/drive/MyDrive/prLab/features/Kmer/NA_train_K4', '/content/drive/MyDrive/prLab/features/Kmer/NA_train_K5', '/content/drive/MyDrive/prLab/features/Kmer/PA_train_K3', '/content/drive/MyDrive/prLab/features/Kmer/PA_train_K1', '/content/drive/MyDrive/prLab/features/Kmer/PA_train_K4', '/content/drive/MyDrive/prLab/features/Kmer/PA_train_K2', '/content/drive/MyDrive/prLab/features/Kmer/PA_train_K5', '/content/drive/MyDrive/prLab/features/Kmer/NA_test_K3', '/content/drive/MyDrive/prLab/features/Kmer/PA_test_K2', '/content/drive/MyDrive/prLab/features/Kmer/NA_train_K1', '/content/drive/MyDrive/prLab/features/Kmer/NA_train_K5', '/content/drive/MyDrive/prLab/features/Kmer/PA_train_K2', '/content/drive/MyDrive/prLab/features/Kmer/PA_train_K5', '/content/drive/MyDrive/prLab/features/Kmer/NA_test_K4', '/content/drive/MyDrive/prLab/features/Kmer/PA_test_K3', '/content/drive/MyDrive/prLab/features/Kmer/NA_train_K3', '/content/drive/MyDrive/prLab/features/Kmer/PA_train_K3', '/content/drive/MyDrive/prLab/features/ENAC/NA_train_sp_5', '/content/drive/MyDrive/prLab/features/ENAC/NA_train_sp_10', '/content/drive/MyDrive/prLab/features/ENAC/NA_test_sp_5', '/content/drive/MyDrive/prLab/features/ENAC/NA_test_sp_10', '/content/drive/MyDrive/prLab/features/ENAC/PA_train_sp_5', '/content/drive/MyDrive/prLab/features/ENAC/PA_train_sp_10', '/content/drive/MyDrive/prLab/features/ENAC/PA_test_sp_5', '/content/drive/MyDrive/prLab/features/ENAC/PA_test_sp_10', '/content/drive/MyDrive/prLab/features/ENAC/NA_test_sp_5', '/content/drive/MyDrive/prLab/features/ENAC/NA_train_sp_10', '/content/drive/MyDrive/prLab/features/ENAC/PA_train_sp_10', '/content/drive/MyDrive/prLab/features/ENAC/PA_test_sp_10', '/content/drive/MyDrive/prLab/features/PseEIIP/NA_train_sp_PseEiip', '/content/drive/MyDrive/prLab/features/PseEIIP/NA_test_sp_PseEiip', '/content/drive/MyDrive/prLab/features/PseEIIP/PA_train_sp_PseEiip', '/content/drive/MyDrive/prLab/features/PseEIIP/PA_test_sp_PseEiip', '/content/drive/MyDrive/prLab/features/PseEIIP/PA_train_sp_PseEiip', '/content/drive/MyDrive/prLab/features/PseEIIP/PA_test_sp_PseEiip']\n"
          ],
          "name": "stdout"
        }
      ]
    },
    {
      "cell_type": "code",
      "metadata": {
        "id": "eeFasOZp1Stc"
      },
      "source": [
        "for f in listOfFiles:\n",
        "  data = pd.read_csv(f+ \".csv\", header=None)\n",
        "  data.drop(data.columns[1], inplace=True)\n",
        "\n",
        "  data = data.to_numpy()[:,1:]\n",
        "  print(data[0,:])\n",
        "  np.save(f +\".npy\",data)\n",
        "\n"
      ],
      "execution_count": null,
      "outputs": []
    },
    {
      "cell_type": "code",
      "metadata": {
        "id": "Kt3LmLZX1Sv8",
        "colab": {
          "base_uri": "https://localhost:8080/"
        },
        "outputId": "38637ddb-c4ee-41b7-bfe2-89dfe4761545"
      },
      "source": [
        "F = getListOfFiles(dirName)\n",
        "npyFiles = []\n",
        "for f in F:\n",
        "  if f.endswith(\".npy\"):\n",
        "    npyFiles.append(f)\n",
        "print(npyFiles)\n"
      ],
      "execution_count": null,
      "outputs": [
        {
          "output_type": "stream",
          "text": [
            "['/content/drive/MyDrive/prLab/features/Binary/NA_test_sp_bin.npy', '/content/drive/MyDrive/prLab/features/Binary/PA_train_sp_bin.npy', '/content/drive/MyDrive/prLab/features/Binary/NA_train_sp_bin.npy', '/content/drive/MyDrive/prLab/features/Binary/PA_test_sp_bin.npy', '/content/drive/MyDrive/prLab/features/TAC/NA_train_sp_TAC7.npy', '/content/drive/MyDrive/prLab/features/TAC/PA_train_sp_TAC7.npy', '/content/drive/MyDrive/prLab/features/TAC/PA_test_sp_TAC7.npy', '/content/drive/MyDrive/prLab/features/TAC/NA_test_sp_TAC7.npy', '/content/drive/MyDrive/prLab/features/EIIP/NA_train_sp_eiip.npy', '/content/drive/MyDrive/prLab/features/EIIP/PA_train_sp_eiip.npy', '/content/drive/MyDrive/prLab/features/EIIP/NA_test_sp_eiip.npy', '/content/drive/MyDrive/prLab/features/EIIP/PA_test_sp_eiip.npy', '/content/drive/MyDrive/prLab/features/DAC/NA_train_sp_DAC7.npy', '/content/drive/MyDrive/prLab/features/DAC/PA_train_sp_DAC7.npy', '/content/drive/MyDrive/prLab/features/DAC/PA_test_sp_DAC7.npy', '/content/drive/MyDrive/prLab/features/DAC/NA_test_sp_DAC7.npy', '/content/drive/MyDrive/prLab/features/NCP/NA_test_sp_ncp.npy', '/content/drive/MyDrive/prLab/features/NCP/PA_train_sp_ncp.npy', '/content/drive/MyDrive/prLab/features/NCP/PA_test_sp_ncp.npy', '/content/drive/MyDrive/prLab/features/NCP/NA_train_sp_ncp.npy', '/content/drive/MyDrive/prLab/features/KSpace/NA_train_sp_gap1.npy', '/content/drive/MyDrive/prLab/features/KSpace/NA_train_sp_gap5.npy', '/content/drive/MyDrive/prLab/features/KSpace/NA_train_sp_gap9.npy', '/content/drive/MyDrive/prLab/features/KSpace/NA_test_sp_gap3.npy', '/content/drive/MyDrive/prLab/features/KSpace/NA_test_sp_gap7.npy', '/content/drive/MyDrive/prLab/features/KSpace/PA_train_sp_gap1.npy', '/content/drive/MyDrive/prLab/features/KSpace/PA_train_sp_gap5.npy', '/content/drive/MyDrive/prLab/features/KSpace/PA_train_sp_gap9.npy', '/content/drive/MyDrive/prLab/features/KSpace/PA_test_sp_gap3.npy', '/content/drive/MyDrive/prLab/features/KSpace/PA_test_sp_gap1.npy', '/content/drive/MyDrive/prLab/features/KSpace/PA_test_sp_gap5.npy', '/content/drive/MyDrive/prLab/features/KSpace/PA_test_sp_gap7.npy', '/content/drive/MyDrive/prLab/features/KSpace/PA_test_sp_gap9.npy', '/content/drive/MyDrive/prLab/features/KSpace/NA_train_sp_gap3.npy', '/content/drive/MyDrive/prLab/features/KSpace/NA_train_sp_gap7.npy', '/content/drive/MyDrive/prLab/features/KSpace/NA_test_sp_gap1.npy', '/content/drive/MyDrive/prLab/features/KSpace/NA_test_sp_gap5.npy', '/content/drive/MyDrive/prLab/features/KSpace/NA_test_sp_gap9.npy', '/content/drive/MyDrive/prLab/features/KSpace/PA_train_sp_gap3.npy', '/content/drive/MyDrive/prLab/features/KSpace/PA_train_sp_gap7.npy', '/content/drive/MyDrive/prLab/features/Kmer/NA_test_K1.npy', '/content/drive/MyDrive/prLab/features/Kmer/NA_test_K3.npy', '/content/drive/MyDrive/prLab/features/Kmer/NA_test_K5.npy', '/content/drive/MyDrive/prLab/features/Kmer/PA_test_K2.npy', '/content/drive/MyDrive/prLab/features/Kmer/PA_test_K5.npy', '/content/drive/MyDrive/prLab/features/Kmer/NA_train_K1.npy', '/content/drive/MyDrive/prLab/features/Kmer/NA_train_K2.npy', '/content/drive/MyDrive/prLab/features/Kmer/NA_train_K5.npy', '/content/drive/MyDrive/prLab/features/Kmer/PA_train_K1.npy', '/content/drive/MyDrive/prLab/features/Kmer/PA_train_K2.npy', '/content/drive/MyDrive/prLab/features/Kmer/PA_train_K4.npy', '/content/drive/MyDrive/prLab/features/Kmer/PA_train_K5.npy', '/content/drive/MyDrive/prLab/features/Kmer/NA_test_K2.npy', '/content/drive/MyDrive/prLab/features/Kmer/NA_test_K4.npy', '/content/drive/MyDrive/prLab/features/Kmer/PA_test_K1.npy', '/content/drive/MyDrive/prLab/features/Kmer/PA_test_K3.npy', '/content/drive/MyDrive/prLab/features/Kmer/PA_test_K4.npy', '/content/drive/MyDrive/prLab/features/Kmer/NA_train_K3.npy', '/content/drive/MyDrive/prLab/features/Kmer/NA_train_K4.npy', '/content/drive/MyDrive/prLab/features/Kmer/PA_train_K3.npy', '/content/drive/MyDrive/prLab/features/ENAC/NA_train_sp_5.npy', '/content/drive/MyDrive/prLab/features/ENAC/NA_test_sp_5.npy', '/content/drive/MyDrive/prLab/features/ENAC/PA_train_sp_5.npy', '/content/drive/MyDrive/prLab/features/ENAC/NA_train_sp_10.npy', '/content/drive/MyDrive/prLab/features/ENAC/NA_test_sp_10.npy', '/content/drive/MyDrive/prLab/features/ENAC/PA_train_sp_10.npy', '/content/drive/MyDrive/prLab/features/ENAC/PA_test_sp_5.npy', '/content/drive/MyDrive/prLab/features/ENAC/PA_test_sp_10.npy', '/content/drive/MyDrive/prLab/features/PseEIIP/NA_train_sp_PseEiip.npy', '/content/drive/MyDrive/prLab/features/PseEIIP/PA_train_sp_PseEiip.npy', '/content/drive/MyDrive/prLab/features/PseEIIP/NA_test_sp_PseEiip.npy', '/content/drive/MyDrive/prLab/features/PseEIIP/PA_test_sp_PseEiip.npy']\n"
          ],
          "name": "stdout"
        }
      ]
    },
    {
      "cell_type": "code",
      "metadata": {
        "id": "zSFjZQqRUZ2F",
        "colab": {
          "base_uri": "https://localhost:8080/"
        },
        "outputId": "a4651f35-fc99-4dd1-bf09-1a2a70feba5f"
      },
      "source": [
        "no_of_features = []\n",
        "for f in npyFiles:\n",
        "  temp = np.load(f, allow_pickle=True)\n",
        "  no_of_features.append(temp.shape[1])\n",
        "\n",
        "print(len(no_of_features))"
      ],
      "execution_count": null,
      "outputs": [
        {
          "output_type": "stream",
          "text": [
            "72\n"
          ],
          "name": "stdout"
        }
      ]
    },
    {
      "cell_type": "code",
      "metadata": {
        "id": "6bJe0vsIUZ4d"
      },
      "source": [
        "index_dict = {}\n",
        "track = 0\n",
        "for i, f in enumerate(npyFiles):\n",
        "  l = [track, track+no_of_features[i]-1]\n",
        "  track = track + no_of_features[i]\n",
        "  index_dict[f] = l\n",
        "\n",
        "# i = 1\n",
        "# for id in index_dict:\n",
        "#   print(i, id)\n",
        "#   i +=1\n",
        "\n",
        "j = 1\n",
        "for i in sorted (index_dict.keys()):\n",
        "  print(j, i)\n",
        "  j +=1"
      ],
      "execution_count": null,
      "outputs": []
    },
    {
      "cell_type": "code",
      "metadata": {
        "id": "Ckfbm1Tfkq5U"
      },
      "source": [
        "NA_test_Num = []\n",
        "for f in npyFiles:\n",
        "  if \"NA_test\" in f:\n",
        "    NA_test_Num.append(f)\n",
        " \n",
        "no_of_features_NA_test = []\n",
        "for f in NA_test_Num:\n",
        "  temp = np.load(f, allow_pickle=True)\n",
        "  no_of_features_NA_test.append(temp.shape[1])\n",
        " \n",
        "# print(no_of_features_NA_test)\n",
        " \n",
        "NA_test_index_dict = {}\n",
        "track = 0\n",
        "for i, f in enumerate(NA_test_Num):\n",
        "  l = [track, track+no_of_features_NA_test[i]-1]\n",
        "  track = track + no_of_features_NA_test[i]\n",
        "  NA_test_index_dict[f] = l\n",
        " \n",
        "# print(NA_test_index_dict)\n",
        "i = 1\n",
        "for f in NA_test_index_dict:\n",
        "  print(i, f)\n",
        "  i += 1"
      ],
      "execution_count": null,
      "outputs": []
    },
    {
      "cell_type": "code",
      "metadata": {
        "id": "8wdTKIbNQhwa"
      },
      "source": [
        "def func (name, i):\n",
        "  if \"NA_test\" in name:\n",
        "    arr = np.load(NA_test_Num[i])\n",
        "    return arr\n",
        "  elif \"NA_train\" in name:\n",
        "    arr = np.load(NA_train_Num[i])\n",
        "    return arr\n",
        "  elif \"PA_test\" in name:\n",
        "    arr = np.load(PA_test_Num[i])\n",
        "    return arr\n",
        "  elif \"PA_train\" in name:\n",
        "    arr = np.load(PA_train_Num[i])\n",
        "    return arr"
      ],
      "execution_count": null,
      "outputs": []
    },
    {
      "cell_type": "markdown",
      "metadata": {
        "id": "FTLhKUnaSGbG"
      },
      "source": [
        "#NA Test"
      ]
    },
    {
      "cell_type": "code",
      "metadata": {
        "id": "wr-qY_rRkq7m",
        "colab": {
          "base_uri": "https://localhost:8080/"
        },
        "outputId": "400fbcb1-7fd8-4191-98ca-3fa6f43eafb6"
      },
      "source": [
        "NA_test = np.concatenate([func(\"NA_test\", x) for x in range(0,18)], axis=1)\n",
        "  \n",
        "print(NA_test.shape)\n",
        "np.save(\"/content/drive/MyDrive/prLab/NumpyFiles/NA_test.npy\", NA_test)"
      ],
      "execution_count": null,
      "outputs": [
        {
          "output_type": "stream",
          "text": [
            "(131, 1896)\n"
          ],
          "name": "stdout"
        }
      ]
    },
    {
      "cell_type": "markdown",
      "metadata": {
        "id": "qW5litxmW2rb"
      },
      "source": [
        "#NA Train"
      ]
    },
    {
      "cell_type": "code",
      "metadata": {
        "id": "wvHSE0q1kq96"
      },
      "source": [
        "NA_train_Num = []\n",
        "for f in npyFiles:\n",
        "  if \"NA_train\" in f:\n",
        "    NA_train_Num.append(f)\n",
        " \n",
        "no_of_features_NA_train = []\n",
        "for f in NA_train_Num:\n",
        "  temp = np.load(f, allow_pickle=True)\n",
        "  no_of_features_NA_train.append(temp.shape[1])\n",
        " \n",
        "# print(no_of_features_NA_train)\n",
        " \n",
        "NA_train_index_dict = {}\n",
        "track = 0\n",
        "for i, f in enumerate(NA_train_Num):\n",
        "  l = [track, track+no_of_features_NA_train[i]-1]\n",
        "  track = track + no_of_features_NA_train[i]\n",
        "  NA_train_index_dict[f] = l\n",
        " \n",
        "# print(NA_train_index_dict)\n",
        "# i = 1\n",
        "# for f in NA_train_index_dict:\n",
        "#   print(i, f)\n",
        "#   i += 1\n",
        "\n",
        "# Concatenating\n",
        "\n",
        "NA_train = np.concatenate([func(\"NA_train\", x) for x in range(0,18)], axis=1)\n",
        "  \n",
        "print(NA_train.shape)\n",
        "np.save(\"/content/drive/MyDrive/prLab/NumpyFiles/NA_train.npy\", NA_train)"
      ],
      "execution_count": null,
      "outputs": []
    },
    {
      "cell_type": "markdown",
      "metadata": {
        "id": "pp_vrjjydHDX"
      },
      "source": [
        "#PA Test"
      ]
    },
    {
      "cell_type": "code",
      "metadata": {
        "id": "tMOIuUdAdJEZ"
      },
      "source": [
        "PA_test_Num = []\n",
        "for f in npyFiles:\n",
        "  if \"PA_test\" in f:\n",
        "    PA_test_Num.append(f)\n",
        " \n",
        "no_of_features_PA_test = []\n",
        "for f in PA_test_Num:\n",
        "  temp = np.load(f, allow_pickle=True)\n",
        "  no_of_features_PA_test.append(temp.shape[1])\n",
        " \n",
        "# print(no_of_features_PA_test)\n",
        " \n",
        "PA_test_index_dict = {}\n",
        "track = 0\n",
        "for i, f in enumerate(PA_test_Num):\n",
        "  l = [track, track+no_of_features_PA_test[i]-1]\n",
        "  track = track + no_of_features_PA_test[i]\n",
        "  PA_test_index_dict[f] = l\n",
        "\n",
        "  # Concatenating\n",
        "PA_test = np.concatenate([func(\"PA_test\", x) for x in range(0,18)], axis=1)\n",
        "  \n",
        "print(PA_test.shape)\n",
        "np.save(\"/content/drive/MyDrive/prLab/NumpyFiles/PA_test.npy\", PA_test)"
      ],
      "execution_count": null,
      "outputs": []
    },
    {
      "cell_type": "markdown",
      "metadata": {
        "id": "2Z5xA8O2d0Mg"
      },
      "source": [
        "#PA Train"
      ]
    },
    {
      "cell_type": "code",
      "metadata": {
        "id": "R94K14dSdzzA"
      },
      "source": [
        "PA_train_Num = []\n",
        "for f in npyFiles:\n",
        "  if \"PA_train\" in f:\n",
        "    PA_train_Num.append(f)\n",
        " \n",
        "no_of_features_PA_train = []\n",
        "for f in PA_train_Num:\n",
        "  temp = np.load(f, allow_pickle=True)\n",
        "  no_of_features_PA_train.append(temp.shape[1])\n",
        " \n",
        "# print(no_of_features_PA_train)\n",
        " \n",
        "PA_train_index_dict = {}\n",
        "track = 0\n",
        "for i, f in enumerate(PA_train_Num):\n",
        "  l = [track, track+no_of_features_PA_train[i]-1]\n",
        "  track = track + no_of_features_PA_train[i]\n",
        "  PA_train_index_dict[f] = l\n",
        "\n",
        "# Concatenating\n",
        "PA_train = np.concatenate([func(\"PA_train\", x) for x in range(0,18)], axis=1)\n",
        "  \n",
        "print(PA_train.shape)\n",
        "np.save(\"/content/drive/MyDrive/prLab/NumpyFiles/PA_train.npy\", PA_train)"
      ],
      "execution_count": null,
      "outputs": []
    },
    {
      "cell_type": "markdown",
      "metadata": {
        "id": "EpN2-NQ-eXSH"
      },
      "source": [
        "##Summary of 4 Files"
      ]
    },
    {
      "cell_type": "code",
      "metadata": {
        "id": "mprVPu-Meegb"
      },
      "source": [
        "print(\"PA Test : {0} \\nPA Train: {1}\\nNA Test : {2},\\nNA Train: {3}\\n\".format(PA_test.shape, PA_train.shape, NA_test.shape, NA_train.shape))"
      ],
      "execution_count": null,
      "outputs": []
    },
    {
      "cell_type": "markdown",
      "metadata": {
        "id": "qjpadlMNhhDU"
      },
      "source": [
        "##Concat NA/PA test along rows"
      ]
    },
    {
      "cell_type": "code",
      "metadata": {
        "id": "ZqAOhLmpholO"
      },
      "source": [
        "NPA_test = np.concatenate((NA_test, PA_test), axis=0)\n",
        "NPA_train = np.concatenate((NA_train, PA_train), axis=0)\n",
        "\n",
        "print(\"NPA_test  : {0}\\nNPA_train : {1}\".format(NPA_test.shape, NPA_train.shape))"
      ],
      "execution_count": null,
      "outputs": []
    },
    {
      "cell_type": "code",
      "metadata": {
        "id": "nKkNKbiIoW_C"
      },
      "source": [
        "%cd \"/content/drive/MyDrive/prLab/NumpyFiles\"\n",
        "\n",
        "np.save(\"NA_test_dict.npy\", NA_test_index_dict)\n",
        "index = np.load(\"NA_test_dict.npy\", allow_pickle=True)\n",
        "ind = {}\n",
        "ind = index\n",
        "\n",
        "print(ind)\n",
        "\n"
      ],
      "execution_count": null,
      "outputs": []
    }
  ]
}