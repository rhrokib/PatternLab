{
  "nbformat": 4,
  "nbformat_minor": 0,
  "metadata": {
    "colab": {
      "name": "PR_Assignment_01.ipynb",
      "provenance": [],
      "collapsed_sections": []
    },
    "kernelspec": {
      "name": "python3",
      "display_name": "Python 3"
    }
  },
  "cells": [
    {
      "cell_type": "markdown",
      "metadata": {
        "id": "zoClSsJpuo0j"
      },
      "source": [
        "#Assignment-1\n",
        "##Pattern Lab - B\n",
        "\n",
        "\n",
        "---\n",
        "\n",
        "\n",
        "\n",
        "---\n",
        "\n",
        "\n",
        "####Rokibul Islam\n",
        "####011181102"
      ]
    },
    {
      "cell_type": "code",
      "metadata": {
        "id": "FZh6Auy3oXZy"
      },
      "source": [
        "!pip install biopython\n",
        "from Bio import SeqIO\n",
        "import sys\n",
        "import re\n",
        "import os\n",
        "import fileinput"
      ],
      "execution_count": null,
      "outputs": []
    },
    {
      "cell_type": "code",
      "metadata": {
        "id": "D66NLnR2k2TX"
      },
      "source": [
        "import os\n",
        "PATH = r\"/content/drive/My Drive/prLab/dataset\"\n",
        "\n",
        "path = os.listdir(PATH)\n",
        "files = [x.split('.')[0] for x in path]\n",
        "print(files)\n"
      ],
      "execution_count": null,
      "outputs": []
    },
    {
      "cell_type": "code",
      "metadata": {
        "id": "jwVbNNY8lb5A"
      },
      "source": [
        "%cd /content/drive/My Drive/prLab/dataset\n",
        "\n",
        "for f in files:\n",
        "    out = open(f + \"_sp.txt\", \"w\")\n",
        "    mode = \"train\"\n",
        "    classLabel = \"1\"\n",
        "\n",
        "    if \"test\" in f:\n",
        "      mode = \"test\"\n",
        "\n",
        "    if f[0] == \"N\":\n",
        "        classLabel = \"0\"\n",
        "\n",
        "    for seq_record in SeqIO.parse(f + \".txt\", \"fasta\"):\n",
        "      id = str(seq_record.id) + \"|\" + classLabel + \"|\" + mode\n",
        "      sequence = str(seq_record.seq)\n",
        "      out.write(\">\" + id + \"\\n\" + sequence + \"\\n\")\n",
        "    out.close()\n",
        "    print(\"All good!\")"
      ],
      "execution_count": null,
      "outputs": []
    },
    {
      "cell_type": "markdown",
      "metadata": {
        "id": "ml21XIu08X5z"
      },
      "source": [
        "#Generating KMER 1-5 for NA/PA files only."
      ]
    },
    {
      "cell_type": "code",
      "metadata": {
        "id": "ERj0dtpFncz5"
      },
      "source": [
        "\n",
        "!pwd\n",
        "\n",
        "! python descnucleotide/RCKmer.py --file \"/content/drive/My Drive/prLab/dataset/NA_test_sp.txt\" --kmer 1 --normalize --format csv --out \"/content/drive/My Drive/prLab/features/Kmer/NA_test_K1.csv\"\n",
        "! python descnucleotide/RCKmer.py --file \"/content/drive/My Drive/prLab/dataset/NA_test_sp.txt\" --kmer 2 --normalize --format csv --out \"/content/drive/My Drive/prLab/features/Kmer/NA_test_K2.csv\"\n",
        "! python descnucleotide/RCKmer.py --file \"/content/drive/My Drive/prLab/dataset/NA_test_sp.txt\" --kmer 3 --normalize --format csv --out \"/content/drive/My Drive/prLab/features/Kmer/NA_test_K3.csv\"\n",
        "! python descnucleotide/RCKmer.py --file \"/content/drive/My Drive/prLab/dataset/NA_test_sp.txt\" --kmer 4 --normalize --format csv --out \"/content/drive/My Drive/prLab/features/Kmer/NA_test_K4.csv\"\n",
        "! python descnucleotide/RCKmer.py --file \"/content/drive/My Drive/prLab/dataset/NA_test_sp.txt\" --kmer 5 --normalize --format csv --out \"/content/drive/My Drive/prLab/features/Kmer/NA_test_K5.csv\"\n",
        "\n",
        "! python descnucleotide/RCKmer.py --file \"/content/drive/My Drive/prLab/dataset/PA_test_sp.txt\" --kmer 1 --normalize --format csv --out \"/content/drive/My Drive/prLab/features/Kmer/PA_test_K1.csv\"\n",
        "! python descnucleotide/RCKmer.py --file \"/content/drive/My Drive/prLab/dataset/PA_test_sp.txt\" --kmer 2 --normalize --format csv --out \"/content/drive/My Drive/prLab/features/Kmer/PA_test_K2.csv\"\n",
        "! python descnucleotide/RCKmer.py --file \"/content/drive/My Drive/prLab/dataset/PA_test_sp.txt\" --kmer 3 --normalize --format csv --out \"/content/drive/My Drive/prLab/features/Kmer/PA_test_K3.csv\"\n",
        "! python descnucleotide/RCKmer.py --file \"/content/drive/My Drive/prLab/dataset/PA_test_sp.txt\" --kmer 4 --normalize --format csv --out \"/content/drive/My Drive/prLab/features/Kmer/PA_test_K4.csv\"\n",
        "! python descnucleotide/RCKmer.py --file \"/content/drive/My Drive/prLab/dataset/PA_test_sp.txt\" --kmer 5 --normalize --format csv --out \"/content/drive/My Drive/prLab/features/Kmer/PA_test_K5.csv\"\n",
        "\n",
        "! python descnucleotide/RCKmer.py --file \"/content/drive/My Drive/prLab/dataset/NA_train_sp.txt\" --kmer 1 --normalize --format csv --out \"/content/drive/My Drive/prLab/features/Kmer/NA_train_K1.csv\"\n",
        "! python descnucleotide/RCKmer.py --file \"/content/drive/My Drive/prLab/dataset/NA_train_sp.txt\" --kmer 2 --normalize --format csv --out \"/content/drive/My Drive/prLab/features/Kmer/NA_train_K2.csv\"\n",
        "! python descnucleotide/RCKmer.py --file \"/content/drive/My Drive/prLab/dataset/NA_train_sp.txt\" --kmer 3 --normalize --format csv --out \"/content/drive/My Drive/prLab/features/Kmer/NA_train_K3.csv\"\n",
        "! python descnucleotide/RCKmer.py --file \"/content/drive/My Drive/prLab/dataset/NA_train_sp.txt\" --kmer 4 --normalize --format csv --out \"/content/drive/My Drive/prLab/features/Kmer/NA_train_K4.csv\"\n",
        "! python descnucleotide/RCKmer.py --file \"/content/drive/My Drive/prLab/dataset/NA_train_sp.txt\" --kmer 5 --normalize --format csv --out \"/content/drive/My Drive/prLab/features/Kmer/NA_train_K5.csv\"\n",
        "\n",
        "! python descnucleotide/RCKmer.py --file \"/content/drive/My Drive/prLab/dataset/PA_train_sp.txt\" --kmer 1 --normalize --format csv --out \"/content/drive/My Drive/prLab/features/Kmer/PA_train_K1.csv\"\n",
        "! python descnucleotide/RCKmer.py --file \"/content/drive/My Drive/prLab/dataset/PA_train_sp.txt\" --kmer 2 --normalize --format csv --out \"/content/drive/My Drive/prLab/features/Kmer/PA_train_K2.csv\"\n",
        "! python descnucleotide/RCKmer.py --file \"/content/drive/My Drive/prLab/dataset/PA_train_sp.txt\" --kmer 3 --normalize --format csv --out \"/content/drive/My Drive/prLab/features/Kmer/PA_train_K3.csv\"\n",
        "! python descnucleotide/RCKmer.py --file \"/content/drive/My Drive/prLab/dataset/PA_train_sp.txt\" --kmer 4 --normalize --format csv --out \"/content/drive/My Drive/prLab/features/Kmer/PA_train_K4.csv\"\n",
        "! python descnucleotide/RCKmer.py --file \"/content/drive/My Drive/prLab/dataset/PA_train_sp.txt\" --kmer 5 --normalize --format csv --out \"/content/drive/My Drive/prLab/features/Kmer/PA_train_K5.csv\"\n",
        "! echo That was a lotta files\n"
      ],
      "execution_count": null,
      "outputs": []
    },
    {
      "cell_type": "markdown",
      "metadata": {
        "id": "Ktjv8QYziTor"
      },
      "source": [
        "#ENAC 5/10\n",
        "It was at this moment that I thought, \"Why don't I just run all the files in a loop?\""
      ]
    },
    {
      "cell_type": "code",
      "metadata": {
        "id": "1HMdElri8VZk"
      },
      "source": [
        "%%shell\n",
        "cd \"/content/drive/My Drive/prLab/iLearn_master\"\n",
        "files=( \"NA_train_sp\" \"NA_test_sp\" \"PA_train_sp\" \"PA_test_sp\")\n",
        "\n",
        "for ((i=0; i<=3; i++))\n",
        "do\n",
        "  python descnucleotide/ENAC.py --file /content/drive/My\\ Drive/prLab/dataset/\"${files[i]}\".txt --slwindow 5 --format csv --out /content/drive/My\\ Drive/prLab/features/ENAC/\"${files[i]}\"_5.csv\n",
        "  python descnucleotide/ENAC.py --file /content/drive/My\\ Drive/prLab/dataset/\"${files[i]}\".txt --slwindow 10 --format csv --out /content/drive/My\\ Drive/prLab/features/ENAC/\"${files[i]}\"_10.csv\n",
        "done\n"
      ],
      "execution_count": null,
      "outputs": []
    },
    {
      "cell_type": "markdown",
      "metadata": {
        "id": "qmr4QQMAihPo"
      },
      "source": [
        "#Binary\n"
      ]
    },
    {
      "cell_type": "code",
      "metadata": {
        "id": "NJwtvS6skQTY"
      },
      "source": [
        "%%shell\n",
        "cd \"/content/drive/My Drive/prLab/features\"\n",
        "mkdir Binary\n",
        "\n",
        "cd \"/content/drive/My Drive/prLab/iLearn_master\"\n",
        "files=( \"NA_train_sp\" \"NA_test_sp\" \"PA_train_sp\" \"PA_test_sp\")\n",
        "\n",
        "for ((i=0; i<=3; i++))\n",
        "do\n",
        "  python iLearn-nucleotide-basic.py --file /content/drive/My\\ Drive/prLab/dataset/\"${files[i]}\".txt --method binary --format csv --out /content/drive/My\\ Drive/prLab/features/Binary/\"${files[i]}\"_bin.csv\n",
        "done"
      ],
      "execution_count": null,
      "outputs": []
    },
    {
      "cell_type": "markdown",
      "metadata": {
        "id": "VfWNSmGfkfAa"
      },
      "source": [
        "#KSpace 1 3 5 7 9"
      ]
    },
    {
      "cell_type": "code",
      "metadata": {
        "id": "v-q53fWikJCu"
      },
      "source": [
        "%%shell\n",
        "cd \"/content/drive/My Drive/prLab/features\"\n",
        "mkdir KSpace\n",
        "pwd\n",
        "cd \"/content/drive/My Drive/prLab/iLearn_master\"\n",
        "files=( \"NA_train_sp\" \"NA_test_sp\" \"PA_train_sp\" \"PA_test_sp\")\n",
        "\n",
        "for ((i=0; i<=3; i++))\n",
        "do\n",
        "  for((j=1; j<10; j+=2))\n",
        "  do \n",
        "    python descnucleotide/CKSNAP.py --file /content/drive/My\\ Drive/prLab/dataset/\"${files[i]}\".txt --gap $j --format csv --out /content/drive/My\\ Drive/prLab/features/KSpace/\"${files[i]}\"_gap$j.csv\n",
        "  done\n",
        "done\n"
      ],
      "execution_count": null,
      "outputs": []
    },
    {
      "cell_type": "markdown",
      "metadata": {
        "id": "W-a4FSyRn664"
      },
      "source": [
        "#NCP"
      ]
    },
    {
      "cell_type": "code",
      "metadata": {
        "id": "eM94MJAOkJZJ"
      },
      "source": [
        "%%shell\n",
        "cd \"/content/drive/My Drive/prLab/features\"\n",
        "mkdir NCP\n",
        "pwd\n",
        "cd \"/content/drive/My Drive/prLab/iLearn_master\"\n",
        "files=( \"NA_train_sp\" \"NA_test_sp\" \"PA_train_sp\" \"PA_test_sp\")\n",
        "\n",
        "for ((i=0; i<=3; i++))\n",
        "do\n",
        "  python iLearn-nucleotide-basic.py --file /content/drive/My\\ Drive/prLab/dataset/\"${files[i]}\".txt --method NCP --format csv --out /content/drive/My\\ Drive/prLab/features/NCP/\"${files[i]}\"_ncp.csv\n",
        "done\n",
        "\n"
      ],
      "execution_count": null,
      "outputs": []
    },
    {
      "cell_type": "markdown",
      "metadata": {
        "id": "byIAn2_rpbGl"
      },
      "source": [
        "#EIIP"
      ]
    },
    {
      "cell_type": "code",
      "metadata": {
        "id": "aMx-qnGboAB1"
      },
      "source": [
        "%%shell\n",
        "cd \"/content/drive/My Drive/prLab/features\"\n",
        "mkdir EIIP\n",
        "pwd\n",
        "cd \"/content/drive/My Drive/prLab/iLearn_master\"\n",
        "files=( \"NA_train_sp\" \"NA_test_sp\" \"PA_train_sp\" \"PA_test_sp\")\n",
        "\n",
        "for ((i=0; i<=3; i++))\n",
        "do\n",
        "  python iLearn-nucleotide-basic.py --file /content/drive/My\\ Drive/prLab/dataset/\"${files[i]}\".txt --method EIIP --format csv --out /content/drive/My\\ Drive/prLab/features/EIIP/\"${files[i]}\"_eiip.csv\n",
        "done"
      ],
      "execution_count": null,
      "outputs": []
    },
    {
      "cell_type": "markdown",
      "metadata": {
        "id": "8ZggaJiYpdqy"
      },
      "source": [
        "PseEIIP"
      ]
    },
    {
      "cell_type": "code",
      "metadata": {
        "id": "cUBK9RlvoATo"
      },
      "source": [
        "%%shell\n",
        "cd \"/content/drive/My Drive/prLab/features\"\n",
        "mkdir PseEIIP\n",
        "pwd\n",
        "cd \"/content/drive/My Drive/prLab/iLearn_master\"\n",
        "files=( \"NA_train_sp\" \"NA_test_sp\" \"PA_train_sp\" \"PA_test_sp\")\n",
        "\n",
        "for ((i=0; i<=3; i++))\n",
        "do\n",
        "  python iLearn-nucleotide-basic.py --file /content/drive/My\\ Drive/prLab/dataset/\"${files[i]}\".txt --method PseEIIP --format csv --out /content/drive/My\\ Drive/prLab/features/EIIP/\"${files[i]}\"_PseEiip.csv\n",
        "done"
      ],
      "execution_count": null,
      "outputs": []
    },
    {
      "cell_type": "markdown",
      "metadata": {
        "id": "yh2wQ9_soAi9"
      },
      "source": [
        "#DAC 1-7"
      ]
    },
    {
      "cell_type": "code",
      "metadata": {
        "id": "ND_gG9_oqQRO"
      },
      "source": [
        "%%shell\n",
        "cd \"/content/drive/My Drive/prLab/features\"\n",
        "mkdir DAC\n",
        "pwd\n",
        "cd \"/content/drive/My Drive/prLab/iLearn_master\"\n",
        "files=( \"NA_train_sp\" \"NA_test_sp\" \"PA_train_sp\" \"PA_test_sp\")\n",
        "\n",
        "for ((i=0; i<=3; i++))\n",
        "do\n",
        "  for((j=1; j<=7; j++))\n",
        "  do \n",
        "    python iLearn-nucleotide-acc.py --file /content/drive/My\\ Drive/prLab/dataset/\"${files[i]}\".txt --method DAC --type DNA --lag $j --format csv --out /content/drive/My\\ Drive/prLab/features/DAC/\"${files[i]}\"_DAC$j.csv\n",
        "  done\n",
        "done"
      ],
      "execution_count": null,
      "outputs": []
    },
    {
      "cell_type": "markdown",
      "metadata": {
        "id": "pIuTrSrAqLMm"
      },
      "source": [
        "#TAC 1-7"
      ]
    },
    {
      "cell_type": "code",
      "metadata": {
        "id": "PVSV04y8rjqL"
      },
      "source": [
        "%%shell\n",
        "cd \"/content/drive/My Drive/prLab/features\"\n",
        "mkdir TAC\n",
        "pwd\n",
        "cd \"/content/drive/My Drive/prLab/iLearn_master\"\n",
        "files=( \"NA_train_sp\" \"NA_test_sp\" \"PA_train_sp\" \"PA_test_sp\")\n",
        "\n",
        "for ((i=0; i<=3; i++))\n",
        "do\n",
        "  for((j=1; j<=7; j++))\n",
        "  do \n",
        "    python iLearn-nucleotide-acc.py --file /content/drive/My\\ Drive/prLab/dataset/\"${files[i]}\".txt --method TAC --type DNA --lag $j --format csv --out /content/drive/My\\ Drive/prLab/features/TAC/\"${files[i]}\"_TAC$j.csv\n",
        "  done\n",
        "done"
      ],
      "execution_count": null,
      "outputs": []
    }
  ]
}